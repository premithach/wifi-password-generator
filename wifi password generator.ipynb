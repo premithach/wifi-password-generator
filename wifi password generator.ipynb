{
 "cells": [
  {
   "cell_type": "code",
   "execution_count": null,
   "id": "ebadbabc",
   "metadata": {},
   "outputs": [
    {
     "name": "stdout",
     "output_type": "stream",
     "text": [
      "honey\\x92s iphone             |  ENCODING ERROR\n",
      "AndroidAP_5913                |  12345678\n",
      "RK                            |  Premi2004\n",
      "Tommy                         |  AP21110010051\n",
      "srmap-byod                    |  \n",
      "SRMAP-2024                    |  $rmap@2024\n",
      "Nen Share Cheyyanu Po         |  kolli2004\n",
      "OnePlus Nord CE 2             |  ctvhqg78\n",
      "PREMITHA                      |  Premi4747\n",
      "PREMITHA                      |  Premi4747\n",
      "Galaxy J62C13                 |  Premi4747\n",
      "Suni2001_5g                   |  manu1969\n",
      "Suni2001                      |  manu1969\n",
      "Mokshaditya                   |  \n",
      "SRMAP-ALC                     |  Alc@2020\n",
      " iPhone 12 Pro Max            |  123456789\n",
      "Galaxy F62ed36                |  Premi4747\n",
      "Nagabhyru's Galaxy M32        |  123456789\n",
      "moto g31_5435                 |  vijayakrishna\n",
      "Kotha's Galaxy M31            |  xxcb2127\n",
      "Premitha                      |  Premi4747\n",
      "moto e40 8574                 |  chiranjeevi\n",
      "Galaxy M329595                |  12345678\n",
      "AndroidAP_9863                |  12345678\n"
     ]
    }
   ],
   "source": [
    "import subprocess\n",
    "\n",
    "data = subprocess.check_output(['netsh', 'wlan', 'show', 'profiles']).decode('utf-8', errors=\"backslashreplace\").split('\\n')\n",
    "\n",
    "profiles = [i.split(\":\")[1][1:-1] for i in data if \"All User Profile\" in i]\n",
    "\n",
    "for i in profiles:\n",
    "    try:\n",
    "        results = subprocess.check_output(['netsh', 'wlan', 'show', 'profile', i, 'key=clear']).decode('utf-8', errors=\"backslashreplace\").split('\\n')\n",
    "        results = [b.split(\":\")[1][1:-1] for b in results if \"Key Content\" in b]\n",
    "        try:\n",
    "            print (\"{:<30}|  {:<}\".format(i, results[0]))\n",
    "        except IndexError:\n",
    "            print (\"{:<30}|  {:<}\".format(i, \"\"))\n",
    "    except subprocess.CalledProcessError:\n",
    "        print (\"{:<30}|  {:<}\".format(i, \"ENCODING ERROR\"))\n",
    "\n",
    "input(\"\")\n"
   ]
  },
  {
   "cell_type": "code",
   "execution_count": null,
   "id": "09bea33e",
   "metadata": {},
   "outputs": [],
   "source": []
  }
 ],
 "metadata": {
  "kernelspec": {
   "display_name": "Python 3 (ipykernel)",
   "language": "python",
   "name": "python3"
  },
  "language_info": {
   "codemirror_mode": {
    "name": "ipython",
    "version": 3
   },
   "file_extension": ".py",
   "mimetype": "text/x-python",
   "name": "python",
   "nbconvert_exporter": "python",
   "pygments_lexer": "ipython3",
   "version": "3.9.12"
  }
 },
 "nbformat": 4,
 "nbformat_minor": 5
}
